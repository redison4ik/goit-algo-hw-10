{
  "nbformat": 4,
  "nbformat_minor": 0,
  "metadata": {
    "colab": {
      "provenance": [],
      "authorship_tag": "ABX9TyOi9GSMzSinNUydwModg7zY",
      "include_colab_link": true
    },
    "kernelspec": {
      "name": "python3",
      "display_name": "Python 3"
    },
    "language_info": {
      "name": "python"
    }
  },
  "cells": [
    {
      "cell_type": "markdown",
      "metadata": {
        "id": "view-in-github",
        "colab_type": "text"
      },
      "source": [
        "<a href=\"https://colab.research.google.com/github/redison4ik/goit-algo-hw-10/blob/main/HW10_2.ipynb\" target=\"_parent\"><img src=\"https://colab.research.google.com/assets/colab-badge.svg\" alt=\"Open In Colab\"/></a>"
      ]
    },
    {
      "cell_type": "code",
      "execution_count": 2,
      "metadata": {
        "id": "M_I2Q8Rdl-9f",
        "colab": {
          "base_uri": "https://localhost:8080/"
        },
        "outputId": "dff839dc-2cc3-4309-a719-cc60d1a397da"
      },
      "outputs": [
        {
          "output_type": "stream",
          "name": "stdout",
          "text": [
            "Requirement already satisfied: pulp in /usr/local/lib/python3.11/dist-packages (3.2.1)\n",
            "Статус: Optimal\n",
            "Лимонад: 30.0\n",
            "Фруктовий сік: 20.0\n",
            "Всього напоїв: 50.0\n"
          ]
        }
      ],
      "source": [
        "!pip install pulp\n",
        "\n",
        "from pulp import LpMaximize, LpProblem, LpVariable, LpStatus, value\n",
        "\n",
        "# Створення моделі\n",
        "model = LpProblem(\"Напої_Максимізація\", LpMaximize)\n",
        "\n",
        "# Змінні\n",
        "lemonade = LpVariable(\"Lemonade\", lowBound=0, cat='Integer')\n",
        "juice = LpVariable(\"Juice\", lowBound=0, cat='Integer')\n",
        "\n",
        "# Ціль\n",
        "model += lemonade + juice, \"Total Drinks\"\n",
        "\n",
        "# Обмеження\n",
        "model += 2 * lemonade + 1 * juice <= 100  # вода\n",
        "model += lemonade <= 50  # цукор\n",
        "model += lemonade <= 30  # лимонний сік\n",
        "model += 2 * juice <= 40  # фруктове пюре\n",
        "\n",
        "# Розв'язок\n",
        "model.solve()\n",
        "\n",
        "# Вивід\n",
        "print(f\"Статус: {LpStatus[model.status]}\")\n",
        "print(f\"Лимонад: {lemonade.value()}\")\n",
        "print(f\"Фруктовий сік: {juice.value()}\")\n",
        "print(f\"Всього напоїв: {value(model.objective)}\")\n"
      ]
    }
  ]
}
